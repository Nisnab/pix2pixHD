{
 "cells": [
  {
   "cell_type": "code",
   "execution_count": 1,
   "metadata": {},
   "outputs": [],
   "source": [
    "from PIL import Image\n",
    "import os\n",
    "from resizeimage import resizeimage\n",
    "path='/home/nisnab/workspace/pix2pixHD/datasets/monet/train_A_org/'\n",
    "path2='/home/nisnab/workspace/pix2pixHD/datasets/monet/train_A/'\n",
    "files=os.listdir(path)\n",
    "import PIL\n",
    "from PIL import Image\n",
    "import cv2\n",
    "\n",
    "from tqdm import tqdm"
   ]
  },
  {
   "cell_type": "code",
   "execution_count": 2,
   "metadata": {},
   "outputs": [
    {
     "name": "stderr",
     "output_type": "stream",
     "text": [
      "100%|██████████| 500/500 [00:19<00:00, 25.71it/s]\n"
     ]
    }
   ],
   "source": [
    "for i in tqdm(files):\n",
    "    img=Image.open(path+'/'+i,mode='r')\n",
    "    img = resizeimage.resize_crop(img, [512,256])\n",
    "\n",
    "    img.save(path2+i,img.format)\n"
   ]
  },
  {
   "cell_type": "code",
   "execution_count": 6,
   "metadata": {},
   "outputs": [],
   "source": [
    "path_b='/home/nisnab/workspace/pix2pixHD/datasets/monet/train_B_org/'\n",
    "path2b='/home/nisnab/workspace/pix2pixHD/datasets/monet/train_B/'\n",
    "files=os.listdir(path_b)"
   ]
  },
  {
   "cell_type": "code",
   "execution_count": 7,
   "metadata": {},
   "outputs": [
    {
     "name": "stderr",
     "output_type": "stream",
     "text": [
      "100%|██████████| 500/500 [00:29<00:00, 17.16it/s]\n"
     ]
    }
   ],
   "source": [
    "for i in tqdm(files):\n",
    "    img=Image.open(path_b+'/'+i,mode='r')\n",
    "    img = resizeimage.resize_crop(img, [512,256])\n",
    "\n",
    "    img.save(path2b+i,img.format)\n"
   ]
  },
  {
   "cell_type": "code",
   "execution_count": null,
   "metadata": {},
   "outputs": [],
   "source": []
  }
 ],
 "metadata": {
  "kernelspec": {
   "display_name": "Python 3",
   "language": "python",
   "name": "python3"
  },
  "language_info": {
   "codemirror_mode": {
    "name": "ipython",
    "version": 3
   },
   "file_extension": ".py",
   "mimetype": "text/x-python",
   "name": "python",
   "nbconvert_exporter": "python",
   "pygments_lexer": "ipython3",
   "version": "3.7.7"
  }
 },
 "nbformat": 4,
 "nbformat_minor": 4
}
