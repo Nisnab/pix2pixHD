{
 "cells": [
  {
   "cell_type": "code",
   "execution_count": 1,
   "metadata": {},
   "outputs": [
    {
     "name": "stderr",
     "output_type": "stream",
     "text": [
      "usage: ipykernel_launcher.py [-h] [--name NAME] [--gpu_ids GPU_IDS]\n",
      "                             [--checkpoints_dir CHECKPOINTS_DIR]\n",
      "                             [--model MODEL] [--norm NORM] [--use_dropout]\n",
      "                             [--data_type {8,16,32}] [--verbose] [--fp16]\n",
      "                             [--local_rank LOCAL_RANK] [--batchSize BATCHSIZE]\n",
      "                             [--loadSize LOADSIZE] [--fineSize FINESIZE]\n",
      "                             [--label_nc LABEL_NC] [--input_nc INPUT_NC]\n",
      "                             [--output_nc OUTPUT_NC] [--dataroot DATAROOT]\n",
      "                             [--resize_or_crop RESIZE_OR_CROP]\n",
      "                             [--serial_batches] [--no_flip]\n",
      "                             [--nThreads NTHREADS]\n",
      "                             [--max_dataset_size MAX_DATASET_SIZE]\n",
      "                             [--display_winsize DISPLAY_WINSIZE] [--tf_log]\n",
      "                             [--netG NETG] [--ngf NGF]\n",
      "                             [--n_downsample_global N_DOWNSAMPLE_GLOBAL]\n",
      "                             [--n_blocks_global N_BLOCKS_GLOBAL]\n",
      "                             [--n_blocks_local N_BLOCKS_LOCAL]\n",
      "                             [--n_local_enhancers N_LOCAL_ENHANCERS]\n",
      "                             [--niter_fix_global NITER_FIX_GLOBAL]\n",
      "                             [--no_instance] [--instance_feat] [--label_feat]\n",
      "                             [--feat_num FEAT_NUM] [--load_features]\n",
      "                             [--n_downsample_E N_DOWNSAMPLE_E] [--nef NEF]\n",
      "                             [--n_clusters N_CLUSTERS] [--ntest NTEST]\n",
      "                             [--results_dir RESULTS_DIR]\n",
      "                             [--aspect_ratio ASPECT_RATIO] [--phase PHASE]\n",
      "                             [--which_epoch WHICH_EPOCH] [--how_many HOW_MANY]\n",
      "                             [--cluster_path CLUSTER_PATH]\n",
      "                             [--use_encoded_image] [--export_onnx EXPORT_ONNX]\n",
      "                             [--engine ENGINE] [--onnx ONNX]\n",
      "ipykernel_launcher.py: error: unrecognized arguments: -f /home/nisnab/.local/share/jupyter/runtime/kernel-d8fdec7b-e8c6-49bf-81e9-e020e931b34b.json\n"
     ]
    },
    {
     "ename": "SystemExit",
     "evalue": "2",
     "output_type": "error",
     "traceback": [
      "An exception has occurred, use %tb to see the full traceback.\n",
      "\u001b[0;31mSystemExit\u001b[0m\u001b[0;31m:\u001b[0m 2\n"
     ]
    },
    {
     "name": "stderr",
     "output_type": "stream",
     "text": [
      "/home/nisnab/miniconda3/envs/tf_gpu_copy/lib/python3.7/site-packages/IPython/core/interactiveshell.py:3339: UserWarning: To exit: use 'exit', 'quit', or Ctrl-D.\n",
      "  warn(\"To exit: use 'exit', 'quit', or Ctrl-D.\", stacklevel=1)\n"
     ]
    }
   ],
   "source": [
    "import os\n",
    "from collections import OrderedDict\n",
    "from torch.autograd import Variable\n",
    "from options.test_options import TestOptions\n",
    "from data.data_loader import CreateDataLoader\n",
    "from models.models import create_model\n",
    "import util.util as util\n",
    "from util.visualizer import Visualizer\n",
    "from util import html\n",
    "import torch\n",
    "\n",
    "opt = TestOptions().parse(save=False)\n",
    "opt.nThreads = 1   # test code only supports nThreads = 1\n",
    "opt.batchSize = 1  # test code only supports batchSize = 1\n",
    "opt.serial_batches = True  # no shuffle\n",
    "opt.no_flip = True  # no flip\n",
    "\n",
    "data_loader = CreateDataLoader(opt)\n",
    "dataset = data_loader.load_data()\n",
    "visualizer = Visualizer(opt)\n",
    "# create website\n",
    "web_dir = os.path.join(opt.results_dir, opt.name, '%s_%s' % (opt.phase, opt.which_epoch))\n",
    "webpage = html.HTML(web_dir, 'Experiment = %s, Phase = %s, Epoch = %s' % (opt.name, opt.phase, opt.which_epoch))\n",
    "\n",
    "# test\n",
    "if not opt.engine and not opt.onnx:\n",
    "    model = create_model(opt)\n",
    "    if opt.data_type == 16:\n",
    "        model.half()\n",
    "    elif opt.data_type == 8:\n",
    "        model.type(torch.uint8)\n",
    "            \n",
    "    if opt.verbose:\n",
    "        print(model)\n",
    "else:\n",
    "    from run_engine import run_trt_engine, run_onnx\n",
    "    \n",
    "for i, data in enumerate(dataset):\n",
    "    if i >= opt.how_many:\n",
    "        break\n",
    "    if opt.data_type == 16:\n",
    "        data['label'] = data['label'].half()\n",
    "        data['inst']  = data['inst'].half()\n",
    "    elif opt.data_type == 8:\n",
    "        data['label'] = data['label'].uint8()\n",
    "        data['inst']  = data['inst'].uint8()\n",
    "    if opt.export_onnx:\n",
    "        print (\"Exporting to ONNX: \", opt.export_onnx)\n",
    "        assert opt.export_onnx.endswith(\"onnx\"), \"Export model file should end with .onnx\"\n",
    "        torch.onnx.export(model, [data['label'], data['inst']],\n",
    "                          opt.export_onnx, verbose=True)\n",
    "        exit(0)\n",
    "    minibatch = 1 \n",
    "    if opt.engine:\n",
    "        generated = run_trt_engine(opt.engine, minibatch, [data['label'], data['inst']])\n",
    "    elif opt.onnx:\n",
    "        generated = run_onnx(opt.onnx, opt.data_type, minibatch, [data['label'], data['inst']])\n",
    "    else:        \n",
    "        generated = model.inference(data['label'], data['inst'], data['image'])\n",
    "        \n",
    "    visuals = OrderedDict([('input_label', util.tensor2label(data['label'][0], opt.label_nc)),\n",
    "                           ('synthesized_image', util.tensor2im(generated.data[0]))])\n",
    "    img_path = data['path']\n",
    "    print('process image... %s' % img_path)\n",
    "    visualizer.save_images(webpage, visuals, img_path)\n",
    "\n",
    "webpage.save()"
   ]
  }
 ],
 "metadata": {
  "kernelspec": {
   "display_name": "Python 3",
   "language": "python",
   "name": "python3"
  },
  "language_info": {
   "codemirror_mode": {
    "name": "ipython",
    "version": 3
   },
   "file_extension": ".py",
   "mimetype": "text/x-python",
   "name": "python",
   "nbconvert_exporter": "python",
   "pygments_lexer": "ipython3",
   "version": "3.7.7"
  }
 },
 "nbformat": 4,
 "nbformat_minor": 4
}
